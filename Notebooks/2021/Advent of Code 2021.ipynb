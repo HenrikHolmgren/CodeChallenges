{
 "cells": [
  {
   "cell_type": "markdown",
   "metadata": {},
   "source": [
    "# Common functions\n",
    "\n",
    "So far, only contains what is expected to be a heavily reused load-and-parse method."
   ]
  },
  {
   "cell_type": "code",
   "execution_count": null,
   "metadata": {
    "dotnet_interactive": {
     "language": "csharp"
    }
   },
   "outputs": [],
   "source": [
    "public T[] LoadAndParse<T>(string path, Func<string, T> parse = null) {  \n",
    "    parse = parse ?? (p => (T) Convert.ChangeType(p, typeof(T)));\n",
    "    var rawInput = System.IO.File.ReadAllLines(path);\n",
    "    return rawInput\n",
    "    .Where(p=>!string.IsNullOrWhiteSpace(p))\n",
    "    .Select(parse)\n",
    "    .ToArray();\n",
    "}"
   ]
  },
  {
   "cell_type": "markdown",
   "metadata": {},
   "source": [
    "# Day 1 - Sonar Sweep\n",
    "\n",
    "Fairly straightforward implementation of moving sum, with the Part 1 puzzle being the special case of a moving average of 1 item.\n",
    "\n",
    "Solution is strictly O(n)\n",
    "\n",
    "The solution below leverages the fact that the window can be advanced with minimum calculations by subtracting the first item of the old window (which is about to exit the window) followed by adding the new element about to be added to the window. \n",
    "\n",
    "In this way, we can maintain a window of arbitrary size with just one addition and one subtraction pr. element."
   ]
  },
  {
   "cell_type": "code",
   "execution_count": null,
   "metadata": {
    "dotnet_interactive": {
     "language": "csharp"
    }
   },
   "outputs": [
    {
     "name": "stdout",
     "output_type": "stream",
     "text": [
      "Part 1: 1564\r\n",
      "Part 2: 1611\r\n"
     ]
    }
   ],
   "source": [
    "var input = LoadAndParse<int>(@\"day1_input.txt\");\n",
    "\n",
    "Console.WriteLine($\"Part 1: {CountIncrements(MovingSums(input, 1))}\");\n",
    "Console.WriteLine($\"Part 2: {CountIncrements(MovingSums(input, 3))}\");    \n",
    "\n",
    "int CountIncrements(IEnumerable<int> source)\n",
    "    => source.Zip(source.Skip(1)).Count(p=>p.Item1 < p.Item2);\n",
    "\n",
    "IEnumerable<int> MovingSums(IEnumerable<int> source, int windowSize) {\n",
    "    var initial = source.Take(windowSize).Sum();\n",
    "    yield return initial;\n",
    "\n",
    "    //Start a double iterator on the source collection, separated by windowSize elements\n",
    "    foreach (var pair in source.Zip(source.Skip(windowSize))){\n",
    "\n",
    "        //When advancing the window, remove the start element of the old window, and add the last element of the new window\n",
    "        initial -= pair.Item1; \n",
    "        initial += pair.Item2;\n",
    "        yield return initial;\n",
    "    }\n",
    "}"
   ]
  },
  {
   "cell_type": "markdown",
   "metadata": {},
   "source": [
    "# Day 2: Dive!"
   ]
  },
  {
   "cell_type": "code",
   "execution_count": null,
   "metadata": {
    "dotnet_interactive": {
     "language": "csharp"
    }
   },
   "outputs": [
    {
     "name": "stdout",
     "output_type": "stream",
     "text": [
      "Part 1: 1250395 (Position { Horizontal = 1909, Depth = 655 })\r\n",
      "Part 2: 1451210346 (PositionWithAim { Horizontal = 1909, Depth = 760194, Aim = 655 })\r\n"
     ]
    }
   ],
   "source": [
    "enum CommandDirection{ forward, down, up }\n",
    "record Command (CommandDirection Direction, int Amount );\n",
    "record Position(int Horizontal, int Depth);\n",
    "record PositionWithAim(int Horizontal, int Depth, int Aim);\n",
    "\n",
    "var input =  LoadAndParse<Command>(@\"day2_input.txt\", p=>{\n",
    "    var particles = p.Split(\" \");\n",
    "    var direction = Enum.Parse<CommandDirection>(particles[0]);\n",
    "    var amount = Int32.Parse(particles[1]);\n",
    "    return new Command(direction, amount);\n",
    "});\n",
    "\n",
    "var part1position =new Position(0,0);\n",
    "\n",
    "foreach(var command in input){\n",
    "    part1position = command.Direction switch {\n",
    "        CommandDirection.forward => part1position with {Horizontal = part1position.Horizontal + command.Amount },\n",
    "        CommandDirection.down => part1position with {Depth = part1position.Depth + command.Amount },\n",
    "        CommandDirection.up => part1position with {Depth = part1position.Depth - command.Amount },\n",
    "        _=>part1position\n",
    "    };\n",
    "}\n",
    "\n",
    "var part2position = new PositionWithAim(0,0,0);\n",
    "foreach(var command in input){\n",
    "    part2position = command.Direction switch {\n",
    "        CommandDirection.forward => part2position with {Horizontal = part2position.Horizontal + command.Amount, Depth = part2position.Depth + part2position.Aim * command.Amount},\n",
    "        CommandDirection.down => part2position with {Aim = part2position.Aim + command.Amount },\n",
    "        CommandDirection.up => part2position with {Aim = part2position.Aim - command.Amount },\n",
    "        _=>part2position\n",
    "    };\n",
    "}\n",
    "\n",
    "Console.WriteLine($\"Part 1: {part1position.Horizontal * part1position.Depth} ({part1position})\");\n",
    "Console.WriteLine($\"Part 2: {part2position.Horizontal * part2position.Depth} ({part2position})\");"
   ]
  },
  {
   "cell_type": "code",
   "execution_count": null,
   "metadata": {
    "dotnet_interactive": {
     "language": "csharp"
    }
   },
   "outputs": [
    {
     "name": "stdout",
     "output_type": "stream",
     "text": [
      "Gamma: 2566\r\n",
      "Epsilon: 1529\r\n",
      "Part 1: 3923414\r\n",
      "O2: 2919\r\n",
      "CO2: 2005\r\n",
      "Part 2: 5852595\r\n"
     ]
    }
   ],
   "source": [
    "var input = LoadAndParse<string>(@\"day3_input.txt\");\n",
    "var bitmask = (1<<input[0].Length)-1; \n",
    "int gamma = 0;\n",
    "\n",
    "for(int i = 0; i < input[0].Length; i++){\n",
    "    gamma <<= 1;\n",
    "    if(input.Count(p=>p[i]=='1') > input.Length/2)\n",
    "        gamma++;\n",
    "}\n",
    "\n",
    "var epsilon = ~gamma & bitmask;\n",
    "\n",
    "Console.WriteLine($\"Gamma: {gamma}\");\n",
    "Console.WriteLine($\"Epsilon: {epsilon}\");\n",
    "Console.WriteLine($\"Part 1: {gamma * epsilon}\");\n",
    "\n",
    "string Reduce(IEnumerable<string> source, char target)\n",
    "{\n",
    "    var limit = source.First().Length;\n",
    "    for(int i = 0; i < limit; i++){            \n",
    "        if(source.Count(p => p[i] == target) == source.Count(p => p[i] != target))\n",
    "            source = source.Where(p=>p[i] == target).ToArray();\n",
    "        else if(source.Count(p=>p[i]==target) > source.Count()/2)\n",
    "            source = source.Where(p=>p[i] == '1').ToArray();\n",
    "        else \n",
    "            source = source.Where(p=>p[i] == '0').ToArray();                \n",
    "\n",
    "        if(source.Count() == 1)\n",
    "            return source.Single();\n",
    "    }\n",
    "\n",
    "    return source.Single();        \n",
    "}\n",
    "\n",
    "var O2 = Convert.ToInt32(Reduce(input, '1'), 2);\n",
    "var CO2 = Convert.ToInt32(Reduce(input, '0'), 2);\n",
    "\n",
    "Console.WriteLine($\"O2: {O2}\");\n",
    "Console.WriteLine($\"CO2: {CO2}\");\n",
    "Console.WriteLine($\"Part 2: {O2 * CO2}\");"
   ]
  },
  {
   "cell_type": "markdown",
   "metadata": {},
   "source": [
    "# --- Day 4: Giant Squid ---"
   ]
  },
  {
   "cell_type": "code",
   "execution_count": null,
   "metadata": {
    "dotnet_interactive": {
     "language": "csharp"
    }
   },
   "outputs": [
    {
     "name": "stdout",
     "output_type": "stream",
     "text": [
      "Winner winner, chicken dinner - final board score 766 with drawing 95 for a result of 72770\r\n",
      "The board to avoid scored 296 with final drawing of 47 for a result of 13912\r\n"
     ]
    },
    {
     "data": {
      "text/html": [
       "<div class=\"dni-plaintext\">&lt;null&gt;</div>"
      ]
     },
     "metadata": {},
     "output_type": "display_data"
    }
   ],
   "source": [
    "class BingoBoard{\n",
    "    int[,] Numbers = new int[5,5];\n",
    "    bool[,] Marks = new bool[5,5];\n",
    "    public static BingoBoard Parse(string[] source) {\n",
    "        BingoBoard res = new();\n",
    "        for(int y = 0; y < source.Length; y++) {\n",
    "            var items = source[y].Split(\" \", StringSplitOptions.RemoveEmptyEntries).Select(Int32.Parse).ToArray();\n",
    "            for(int x = 0; x < items.Length; x++)\n",
    "                res.Numbers[x,y]=items[x];\n",
    "        }    \n",
    "        return res;\n",
    "    }   \n",
    "    public void Mark(int entry) {\n",
    "        for(int x = 0; x < 5; x++)\n",
    "        for(int y = 0; y < 5; y++)\n",
    "            if(Numbers[x,y] == entry)\n",
    "                Marks[x,y] = true;            \n",
    "    }\n",
    "    public bool Bingo()\n",
    "        => Enumerable.Range(0, 5).Any(x=>Enumerable.Range(0, 5).All(y => Marks[x,y]))\n",
    "        || Enumerable.Range(0,5).Any(y=>Enumerable.Range(0, 5).All(x => Marks[x,y]));\n",
    "    public int Score()\n",
    "        => Numbers.Cast<int>().Zip(Marks.Cast<bool>()).Sum(p=>p.Item2?0:p.Item1);\n",
    "}\n",
    "\n",
    "List<BingoBoard> Boards = new();\n",
    "\n",
    "var input = System.IO.File.ReadAllLines(@\"day4_input.txt\");\n",
    "var numbers = input[0].Split(\",\").Select(Int32.Parse).ToArray();\n",
    "var boards = input.Skip(1).Chunk(6).Select(p=>BingoBoard.Parse(p.Skip(1).ToArray())).ToArray();\n",
    "\n",
    "BingoBoard firstWinner = default;\n",
    "BingoBoard lastWinner = default;\n",
    "\n",
    "foreach(var number in numbers) {\n",
    "    foreach(var board in boards) board.Mark(number);    \n",
    "\n",
    "    if(lastWinner != default) {\n",
    "        Console.WriteLine($\"The board to avoid scored {lastWinner.Score()} with final drawing of {number} for a result of {lastWinner.Score() * number}\");        \n",
    "        return;\n",
    "    }\n",
    "\n",
    "    if(firstWinner == default && boards.Count(p=>p.Bingo()) == 1) {\n",
    "        firstWinner = boards.Single(p=>p.Bingo());   \n",
    "        Console.WriteLine($\"Winner winner, chicken dinner - final board score {firstWinner.Score()} with drawing {number} for a result of {firstWinner.Score() * number}\");        \n",
    "    }\n",
    "\n",
    "    if(boards.Count(p=>!p.Bingo())==1)\n",
    "        lastWinner = boards.Single(p=>!p.Bingo());\n",
    "}"
   ]
  }
 ],
 "metadata": {
  "kernelspec": {
   "display_name": ".NET (C#)",
   "language": "C#",
   "name": ".net-csharp"
  },
  "language_info": {
   "name": "C#"
  }
 },
 "nbformat": 4,
 "nbformat_minor": 2
}
