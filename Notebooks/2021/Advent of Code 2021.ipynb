{
 "cells": [
  {
   "cell_type": "markdown",
   "metadata": {},
   "source": [
    "# Common functions\n",
    "\n",
    "* ```LoadAndParse<T>```: Loads a text file, line for line, removing empty lines, and passes it through the parse transformation. If no transformation is given, it will just return the raw line as a `String`. \n",
    "* ```LoadMap```: Loads a text file containing a rectangular array of integer values 0-9, and returns it as a two-dimensional integer array. No value testing is performed, so if the input file contains other chars than 0-9 unexpected results can be expected.\n",
    "* ```VonNeumannNeighbourhood```: Returns an enumeration of all points in the 4-neighbourhood around the supplied point. If ```wrapAround``` is ```true``` then it is guaranteed to always return four ```Point```s, otherwise illegal values will be excluded when the ```location``` is along one of the edges of the map.\n",
    "* ```MooreNeighbourhood```: Returns an enumeration of the 8 points directly or diagonally adjacent to the supplied location. Note: Points are _not_ supplied in a clock- or anticlockwise order. If the source location lies along the edges of the map, illegal positions will be excluded from the result set.\n",
    "* ```Drawmap```: Debug method, nicely formats a 2d int array when every value is between 0 and 9. Also formats any other 2d int array but nowhere near as nicely.\n",
    "\n",
    "# Common classes\n",
    "* ```Point```: Simple record type of an X,Y int pair."
   ]
  },
  {
   "cell_type": "code",
   "execution_count": null,
   "metadata": {
    "dotnet_interactive": {
     "language": "csharp"
    }
   },
   "outputs": [],
   "source": [
    "public T[] LoadAndParse<T>(string path, Func<string, T> parse = null) {  \n",
    "    parse = parse ?? (p => (T) Convert.ChangeType(p, typeof(T)));\n",
    "    var rawInput = System.IO.File.ReadAllLines(path);\n",
    "    return rawInput\n",
    "    .Where(p=>!string.IsNullOrWhiteSpace(p))\n",
    "    .Select(parse)\n",
    "    .ToArray();\n",
    "}\n",
    "\n",
    "public int[,] LoadMap(string path) {\n",
    "    var source = System.IO.File.ReadAllLines(path)\n",
    "        .Where(p=>!String.IsNullOrWhiteSpace(p)).ToArray();\n",
    "    var map = new int[source[0].Length, source.Length];\n",
    "\n",
    "    for(int y = 0; y < source.Length; y++)\n",
    "    for(int x = 0; x < source[0].Length; x++)\n",
    "        map[x,y]=source[y][x]-'0';\n",
    "    \n",
    "    return map;\n",
    "}\n",
    "\n",
    "record Point(int X, int Y);\n",
    "\n",
    "IEnumerable<Point> VonNeumannNeighbourhood(Point location, int maxX, int maxY, bool wrapAround = false) {\n",
    "    if(location.X > 0) yield return location with { X = location.X - 1 };\n",
    "    else if (wrapAround) yield return location with { X = maxX };\n",
    "    if(location.Y > 0) yield return location with { Y = location.Y - 1 };\n",
    "    else if (wrapAround) yield return location with { Y = maxY };\n",
    "    if(location.X < maxX) yield return location with { X = location.X + 1 };\n",
    "    else if (wrapAround) yield return location with { X = 0 };\n",
    "    if(location.Y < maxY) yield return location with { Y = location.Y + 1 };\n",
    "    else if (wrapAround) yield return location with { Y = 0 };\n",
    "}\n",
    "\n",
    "IEnumerable<Point> MooreNeighbourhood(Point location, int maxX, int maxY) {\n",
    "    for (int x = location.X - 1; x <= location.X + 1; x++)\n",
    "    for (int y = location.Y - 1; y <= location.Y + 1; y++){\n",
    "        var probe = new Point(x,y);\n",
    "        if(x >= 0 && y >= 0 && \n",
    "           x <= maxX && y <= maxY &&\n",
    "           probe != location) \n",
    "            yield return probe;\n",
    "    }\n",
    "}\n",
    "\n",
    "void DrawMap(int[,] map) {\n",
    "    for(int y = 0; y < map.GetLength(1); y++) {\n",
    "        string line = \"\";\n",
    "        for(int x = 0; x < map.GetLength(0); x++) {\n",
    "            line += map[x,y] + \" \";\n",
    "        }\n",
    "        Console.WriteLine(line);\n",
    "    }\n",
    "}"
   ]
  },
  {
   "cell_type": "markdown",
   "metadata": {},
   "source": [
    "# Day 1 - Sonar Sweep\n",
    "\n",
    "Fairly straightforward implementation of moving sum, with the Part 1 puzzle being the special case of a moving average of 1 item.\n",
    "\n",
    "Solution is strictly O(n)\n",
    "\n",
    "The solution below leverages the fact that the window can be advanced with minimum calculations by subtracting the first item of the old window (which is about to exit the window) followed by adding the new element about to be added to the window. \n",
    "\n",
    "In this way, we can maintain a window of arbitrary size with just one addition and one subtraction pr. element."
   ]
  },
  {
   "cell_type": "code",
   "execution_count": null,
   "metadata": {
    "dotnet_interactive": {
     "language": "csharp"
    }
   },
   "outputs": [
    {
     "name": "stdout",
     "output_type": "stream",
     "text": [
      "Part 1: 1564\r\n",
      "Part 2: 1611\r\n"
     ]
    }
   ],
   "source": [
    "var input = LoadAndParse<int>(@\"day1_input.txt\");\n",
    "\n",
    "Console.WriteLine($\"Part 1: {CountIncrements(MovingSums(input, 1))}\");\n",
    "Console.WriteLine($\"Part 2: {CountIncrements(MovingSums(input, 3))}\");    \n",
    "\n",
    "int CountIncrements(IEnumerable<int> source)\n",
    "    => source.Zip(source.Skip(1)).Count(p=>p.Item1 < p.Item2);\n",
    "\n",
    "IEnumerable<int> MovingSums(IEnumerable<int> source, int windowSize) {\n",
    "    var initial = source.Take(windowSize).Sum();\n",
    "    yield return initial;\n",
    "\n",
    "    //Start a double iterator on the source collection, separated by windowSize elements\n",
    "    foreach (var pair in source.Zip(source.Skip(windowSize))){\n",
    "\n",
    "        //When advancing the window, remove the start element of the old window, and add the last element of the new window\n",
    "        initial -= pair.Item1; \n",
    "        initial += pair.Item2;\n",
    "        yield return initial;\n",
    "    }\n",
    "}"
   ]
  },
  {
   "cell_type": "markdown",
   "metadata": {},
   "source": [
    "# Day 2: Dive!"
   ]
  },
  {
   "cell_type": "code",
   "execution_count": null,
   "metadata": {
    "dotnet_interactive": {
     "language": "csharp"
    }
   },
   "outputs": [
    {
     "name": "stdout",
     "output_type": "stream",
     "text": [
      "Part 1: 1250395 (Position { Horizontal = 1909, Depth = 655 })\r\n",
      "Part 2: 1451210346 (PositionWithAim { Horizontal = 1909, Depth = 760194, Aim = 655 })\r\n"
     ]
    }
   ],
   "source": [
    "enum CommandDirection{ forward, down, up }\n",
    "record Command (CommandDirection Direction, int Amount );\n",
    "record Position(int Horizontal, int Depth);\n",
    "record PositionWithAim(int Horizontal, int Depth, int Aim);\n",
    "\n",
    "var input =  LoadAndParse<Command>(@\"day2_input.txt\", p=>{\n",
    "    var particles = p.Split(\" \");\n",
    "    var direction = Enum.Parse<CommandDirection>(particles[0]);\n",
    "    var amount = Int32.Parse(particles[1]);\n",
    "    return new Command(direction, amount);\n",
    "});\n",
    "\n",
    "var part1position =new Position(0,0);\n",
    "\n",
    "foreach(var command in input){\n",
    "    part1position = command.Direction switch {\n",
    "        CommandDirection.forward => part1position with { Horizontal = part1position.Horizontal + command.Amount },\n",
    "        CommandDirection.down => part1position with { Depth = part1position.Depth + command.Amount },\n",
    "        CommandDirection.up => part1position with { Depth = part1position.Depth - command.Amount },\n",
    "        _=>part1position\n",
    "    };\n",
    "}\n",
    "\n",
    "var part2position = new PositionWithAim(0,0,0);\n",
    "foreach(var command in input){\n",
    "    part2position = command.Direction switch {\n",
    "        CommandDirection.forward => part2position with {\n",
    "            Horizontal = part2position.Horizontal + command.Amount,\n",
    "            Depth = part2position.Depth + part2position.Aim * command.Amount },\n",
    "        CommandDirection.down => part2position with { Aim = part2position.Aim + command.Amount },\n",
    "        CommandDirection.up => part2position with { Aim = part2position.Aim - command.Amount },\n",
    "        _=>part2position\n",
    "    };\n",
    "}\n",
    "\n",
    "Console.WriteLine($\"Part 1: {part1position.Horizontal * part1position.Depth} ({part1position})\");\n",
    "Console.WriteLine($\"Part 2: {part2position.Horizontal * part2position.Depth} ({part2position})\");"
   ]
  },
  {
   "cell_type": "markdown",
   "metadata": {},
   "source": [
    "# Day 3: Binary Diagnostic"
   ]
  },
  {
   "cell_type": "code",
   "execution_count": null,
   "metadata": {
    "dotnet_interactive": {
     "language": "csharp"
    }
   },
   "outputs": [
    {
     "name": "stdout",
     "output_type": "stream",
     "text": [
      "Gamma: 2566\r\n",
      "Epsilon: 1529\r\n",
      "Part 1: 3923414\r\n",
      "O2: 2919\r\n",
      "CO2: 2005\r\n",
      "Part 2: 5852595\r\n"
     ]
    }
   ],
   "source": [
    "var input = LoadAndParse<string>(@\"day3_input.txt\");\n",
    "var bitmask = (1<<input[0].Length)-1; \n",
    "int gamma = 0;\n",
    "\n",
    "for(int i = 0; i < input[0].Length; i++){\n",
    "    gamma <<= 1;\n",
    "    if(input.Count(p=>p[i]=='1') > input.Length/2)\n",
    "        gamma++;\n",
    "}\n",
    "\n",
    "var epsilon = ~gamma & bitmask;\n",
    "\n",
    "Console.WriteLine($\"Gamma: {gamma}\");\n",
    "Console.WriteLine($\"Epsilon: {epsilon}\");\n",
    "Console.WriteLine($\"Part 1: {gamma * epsilon}\");\n",
    "\n",
    "string Reduce(IEnumerable<string> source, char target)\n",
    "{\n",
    "    var limit = source.First().Length;\n",
    "    for(int i = 0; i < limit; i++){            \n",
    "        if(source.Count(p => p[i] == target) == source.Count(p => p[i] != target))\n",
    "            source = source.Where(p=>p[i] == target).ToArray();\n",
    "        else if(source.Count(p=>p[i]==target) > source.Count()/2)\n",
    "            source = source.Where(p=>p[i] == '1').ToArray();\n",
    "        else \n",
    "            source = source.Where(p=>p[i] == '0').ToArray();\n",
    "\n",
    "        if(source.Count() == 1)\n",
    "            return source.Single();\n",
    "    }\n",
    "\n",
    "    return source.Single();        \n",
    "}\n",
    "\n",
    "var O2 = Convert.ToInt32(Reduce(input, '1'), 2);\n",
    "var CO2 = Convert.ToInt32(Reduce(input, '0'), 2);\n",
    "\n",
    "Console.WriteLine($\"O2: {O2}\");\n",
    "Console.WriteLine($\"CO2: {CO2}\");\n",
    "Console.WriteLine($\"Part 2: {O2 * CO2}\");"
   ]
  },
  {
   "cell_type": "markdown",
   "metadata": {},
   "source": [
    "# Day 4: Giant Squid"
   ]
  },
  {
   "cell_type": "code",
   "execution_count": null,
   "metadata": {
    "dotnet_interactive": {
     "language": "csharp"
    }
   },
   "outputs": [
    {
     "name": "stdout",
     "output_type": "stream",
     "text": [
      "Winner winner, chicken dinner - final board score 766 with drawing 95 for a result of 72770\r\n",
      "The board to avoid scored 296 with final drawing of 47 for a result of 13912\r\n"
     ]
    },
    {
     "data": {
      "text/html": [
       "<div class=\"dni-plaintext\">&lt;null&gt;</div>"
      ]
     },
     "metadata": {},
     "output_type": "display_data"
    }
   ],
   "source": [
    "class BingoBoard{\n",
    "    int[,] Numbers = new int[5,5];\n",
    "    bool[,] Marks = new bool[5,5];\n",
    "    public static BingoBoard Parse(string[] source) {\n",
    "        BingoBoard res = new();\n",
    "        for(int y = 0; y < source.Length; y++) {\n",
    "            var items = source[y]\n",
    "                .Split(\" \", StringSplitOptions.RemoveEmptyEntries)\n",
    "                .Select(Int32.Parse).ToArray();\n",
    "            for(int x = 0; x < items.Length; x++)\n",
    "                res.Numbers[x,y]=items[x];\n",
    "        }    \n",
    "        return res;\n",
    "    }   \n",
    "    public void Mark(int entry) {\n",
    "        for(int x = 0; x < 5; x++)\n",
    "        for(int y = 0; y < 5; y++)\n",
    "            if(Numbers[x,y] == entry)\n",
    "                Marks[x,y] = true;            \n",
    "    }\n",
    "    public bool Bingo()\n",
    "        => Enumerable.Range(0, 5).Any(x=>Enumerable.Range(0, 5).All(y => Marks[x,y]))\n",
    "        || Enumerable.Range(0,5).Any(y=>Enumerable.Range(0, 5).All(x => Marks[x,y]));\n",
    "    public int Score()\n",
    "        => Numbers.Cast<int>().Zip(Marks.Cast<bool>()).Sum(p=>p.Item2?0:p.Item1);\n",
    "}\n",
    "\n",
    "List<BingoBoard> Boards = new();\n",
    "\n",
    "var input = System.IO.File.ReadAllLines(@\"day4_input.txt\");\n",
    "var numbers = input[0].Split(\",\").Select(Int32.Parse).ToArray();\n",
    "var boards = input.Skip(1).Chunk(6).Select(p=>BingoBoard.Parse(p.Skip(1).ToArray())).ToArray();\n",
    "\n",
    "BingoBoard firstWinner = default;\n",
    "BingoBoard lastWinner = default;\n",
    "\n",
    "foreach(var number in numbers) {\n",
    "    foreach(var board in boards) board.Mark(number);    \n",
    "\n",
    "    if(lastWinner != default) {\n",
    "        Console.WriteLine($\"The board to avoid scored {lastWinner.Score()} with final drawing of {number} for a result of {lastWinner.Score() * number}\");        \n",
    "        return;\n",
    "    }\n",
    "\n",
    "    if(firstWinner == default && boards.Count(p=>p.Bingo()) == 1) {\n",
    "        firstWinner = boards.Single(p=>p.Bingo());   \n",
    "        Console.WriteLine($\"Winner winner, chicken dinner - final board score {firstWinner.Score()} with drawing {number} for a result of {firstWinner.Score() * number}\");        \n",
    "    }\n",
    "\n",
    "    if(boards.Count(p=>!p.Bingo())==1)\n",
    "        lastWinner = boards.Single(p=>!p.Bingo());\n",
    "}"
   ]
  },
  {
   "cell_type": "markdown",
   "metadata": {},
   "source": [
    "# Day 5: Hydrothermal Venture"
   ]
  },
  {
   "cell_type": "code",
   "execution_count": null,
   "metadata": {
    "dotnet_interactive": {
     "language": "csharp"
    }
   },
   "outputs": [
    {
     "name": "stdout",
     "output_type": "stream",
     "text": [
      "\r\n",
      "5306\r\n",
      "17787\r\n"
     ]
    }
   ],
   "source": [
    "record LineSegment(Point From, Point To) {\n",
    "    public bool IsAxisAligned => From.X == To.X || From.Y == To.Y;\n",
    "};\n",
    "\n",
    "var input = LoadAndParse<LineSegment>(@\"day5_input.txt\", p => {\n",
    "    var sections = p.Split(\" -> \")\n",
    "    .Select(p=>p.Split(\",\").Select(Int32.Parse).ToArray())\n",
    "    .Select(p=>new Point(p[0], p[1]))\n",
    "    .OrderBy(p=>p.X).ThenBy(p=>p.Y) // Guarantee natural ordering, so the only thing we need to consider when updating the map is whether a 45 degree segment slopes up or down.\n",
    "    .ToArray();\n",
    "\n",
    "    return new LineSegment(sections[0], sections[1]);\n",
    "});\n",
    "\n",
    "int[,] buildMap(IEnumerable<LineSegment> lines){\n",
    "    var xMax = lines.Max(p=>p.To.X);\n",
    "    var yMax = lines.Max(p=>p.To.Y);\n",
    "\n",
    "    var map = new int[xMax+1,yMax+1];\n",
    "\n",
    "    foreach(var line in lines){\n",
    "        int targets = line.From.X == line.To.X \n",
    "            ? line.To.Y - line.From.Y\n",
    "            : line.To.X - line.From.X; //Also covers 45 degree diagonals\n",
    "        for(int target = 0; target <= targets; target++){\n",
    "            if(line.IsAxisAligned && line.From.X == line.To.X) map[line.From.X, line.From.Y + target]++;\n",
    "            else if(line.IsAxisAligned) map[line.From.X + target, line.From.Y]++;\n",
    "            else if(line.From.Y < line.To.Y) map[line.From.X + target, line.From.Y + target]++;\n",
    "            else map[line.From.X + target, line.From.Y - target]++;\n",
    "        }\n",
    "    }\n",
    "    return map;\n",
    "}\n",
    "\n",
    "var alignedMap = buildMap(input.Where(p=>p.IsAxisAligned));\n",
    "\n",
    "Console.WriteLine();\n",
    "var genericMap = buildMap(input);\n",
    "Console.WriteLine(alignedMap.Cast<int>().Count(p=>p>1));\n",
    "Console.WriteLine(genericMap.Cast<int>().Count(p=>p>1));\n",
    "\n",
    "//Just for fun, lets try rendering the map - Unfortunately, no easter-egg I can spot, just a bunch of lines.\n",
    "var m = genericMap.Cast<int>().Max();\n",
    "var b = new System.Drawing.Bitmap(genericMap.GetLength(0), genericMap.GetLength(1));\n",
    "for(int x = 0; x < genericMap.GetLength(0); x++) \n",
    "for(int y = 0; y < genericMap.GetLength(1); y++) {\n",
    "    var lumen = (byte)(250 * genericMap[x,y] / m); \n",
    "    b.SetPixel(x, y,  System.Drawing.Color.FromArgb(lumen, lumen, lumen));\n",
    "}\n",
    "b.Save(\"day5_Map.bmp\");"
   ]
  },
  {
   "cell_type": "markdown",
   "metadata": {
    "dotnet_interactive": {
     "language": "csharp"
    }
   },
   "source": [
    "![image](day5_Map.bmp)"
   ]
  },
  {
   "cell_type": "markdown",
   "metadata": {},
   "source": [
    "# --- Day 6: Lanternfish ---\n",
    "Hint: Noone cares where the fish are, they'll still find eachother when it's time ;)"
   ]
  },
  {
   "cell_type": "code",
   "execution_count": null,
   "metadata": {
    "dotnet_interactive": {
     "language": "csharp"
    }
   },
   "outputs": [
    {
     "name": "stdout",
     "output_type": "stream",
     "text": [
      "350149\r\n",
      "1590327954513\r\n"
     ]
    }
   ],
   "source": [
    "var initialFish = System.IO.File.ReadAllText(@\"day6_input.txt\")\n",
    ".Split(\",\", StringSplitOptions.RemoveEmptyEntries)\n",
    ".Select(Int32.Parse)\n",
    ".ToArray();\n",
    "\n",
    "var school = new Dictionary<int, long>{[0]=0, [1]=0, [2]=0, [3]=0, [4]=0, [5]=0, [6]=0, [7]=0, [8]=0};\n",
    "foreach (var fish in initialFish) school[fish]++;\n",
    "\n",
    "void IncrementGeneration(){\n",
    "    var fry = school[0];\n",
    "    for (int j = 0; j < 8; j++)\n",
    "        school[j] = school[j+1];\n",
    "    school[6] += fry;\n",
    "    school[8] = fry;        \n",
    "}\n",
    "\n",
    "for(int i = 0; i < 80; i++)\n",
    "    IncrementGeneration();\n",
    "Console.WriteLine(school.Values.Sum());\n",
    "\n",
    "for(int i = 0; i < 256-80; i++)\n",
    "    IncrementGeneration();\n",
    "Console.WriteLine(school.Values.Sum());\n"
   ]
  },
  {
   "cell_type": "markdown",
   "metadata": {},
   "source": [
    "# --- Day 7: The Treachery of Whales ---"
   ]
  },
  {
   "cell_type": "code",
   "execution_count": null,
   "metadata": {
    "dotnet_interactive": {
     "language": "csharp"
    }
   },
   "outputs": [
    {
     "name": "stdout",
     "output_type": "stream",
     "text": [
      "Moving to position 314 uses 323647 fuel.\r\n",
      "Stabilized at 446 with a total compound use of 87640209\r\n"
     ]
    }
   ],
   "source": [
    "var input = System.IO.File.ReadAllText(@\"day7_input.txt\")\n",
    "    .Split(\",\").Select(Int32.Parse).ToArray();\n",
    "int FuelUse(int position) => input.Sum(p=>Math.Abs(p-position));\n",
    "int FuelUseCompound(int position) => input.Sum(p=>(Math.Abs(p-position)+1)  * Math.Abs(p-position) / 2);\n",
    "\n",
    "var median = input.OrderBy(p=>p).Skip(input.Length/2).First();\n",
    "Console.WriteLine($\"Moving to position {median} uses {FuelUse(median)} fuel.\");\n",
    "\n",
    "var guess = median;\n",
    "var compoundUse = FuelUseCompound(guess);\n",
    "var seekDirection = compoundUse > FuelUseCompound(guess-1) ? -1 : 1;\n",
    "\n",
    "while(compoundUse > FuelUseCompound(guess + seekDirection)){\n",
    "    guess += seekDirection;\n",
    "    compoundUse = FuelUseCompound(guess);\n",
    "}\n",
    "\n",
    "Console.WriteLine($\"Stabilized at {guess} with a total compound use of {compoundUse}\");"
   ]
  },
  {
   "cell_type": "markdown",
   "metadata": {},
   "source": [
    "# --- Day 8: Seven Segment Search ---"
   ]
  },
  {
   "cell_type": "code",
   "execution_count": null,
   "metadata": {
    "dotnet_interactive": {
     "language": "csharp"
    }
   },
   "outputs": [
    {
     "name": "stdout",
     "output_type": "stream",
     "text": [
      "264\r\n",
      "1063760\r\n"
     ]
    }
   ],
   "source": [
    "var input = LoadAndParse<(string[] Signals, string[] Output)>(@\"day8_input.txt\", p => {\n",
    "  var signals = p.Split('|')[0].Split(\" \", StringSplitOptions.RemoveEmptyEntries).ToArray();\n",
    "  var outputs = p.Split('|')[1].Split(\" \", StringSplitOptions.RemoveEmptyEntries).ToArray();\n",
    "  return (signals, outputs);\n",
    "});\n",
    "\n",
    "Console.WriteLine(input.SelectMany(p=>p.Output).Count(p=>new[]{2, 3, 4, 7}.Contains(p.Length)));\n",
    "\n",
    "Console.WriteLine(input.Sum(ResolveDisplayValue));\n",
    "\n",
    "int ResolveDisplayValue((string[] Signals, string[] Output) state){\n",
    "    var map = new HashSet<char>[10];\n",
    "    map[1] = state.Signals.Single(p=>p.Length == 2).ToHashSet(); \n",
    "    map[7] = state.Signals.Single(p=>p.Length == 3).ToHashSet();    \n",
    "    map[4] = state.Signals.Single(p=>p.Length == 4).ToHashSet();\n",
    "    map[8] = state.Signals.Single(p=>p.Length == 7).ToHashSet();\n",
    "    map[9] = state.Signals.Single(p=>p.Length == 6 && p.Intersect(map[1]).Count() == 2 && p.Intersect(map[4]).Count() == 4).ToHashSet();\n",
    "    map[0] = state.Signals.Single(p=>p.Length == 6 && p.Intersect(map[1]).Count() == 2 && p.Intersect(map[9]).Count() != 6).ToHashSet();    \n",
    "    map[6] = state.Signals.Single(p=>p.Length == 6 && p.Intersect(map[0]).Count() != 6 && p.Intersect(map[9]).Count() != 6).ToHashSet();\n",
    "    map[2] = state.Signals.Single(p=>p.Length == 5 && p.Intersect(map[4]).Count() == 2).ToHashSet();\n",
    "    map[3] = state.Signals.Single(p=>p.Length == 5 && p.Intersect(map[1]).Count() == 2 && p.Intersect(map[2]).Count() != 5).ToHashSet();\n",
    "    map[5] = state.Signals.Single(p=>p.Length == 5 && p.Intersect(map[2]).Count() != 5 && p.Intersect(map[3]).Count() != 5).ToHashSet();\n",
    "\n",
    "    int sum = 0;\n",
    "    foreach (var digit in state.Output){\n",
    "        sum *= 10;\n",
    "        for (int i = 0; i < 10; i++)\n",
    "            if(map[i].SetEquals(digit)) { sum+=i; break; }\n",
    "    }\n",
    "    return sum;\n",
    "}"
   ]
  },
  {
   "cell_type": "markdown",
   "metadata": {},
   "source": [
    "# --- Day 9: Smoke Basin ---"
   ]
  },
  {
   "cell_type": "code",
   "execution_count": null,
   "metadata": {
    "dotnet_interactive": {
     "language": "csharp"
    }
   },
   "outputs": [
    {
     "name": "stdout",
     "output_type": "stream",
     "text": [
      "545\r\n",
      "950600\r\n"
     ]
    }
   ],
   "source": [
    "var map = LoadMap(@\"day9_input.txt\");\n",
    "var points = \n",
    "    from x in Enumerable.Range(0, map.GetLength(0))\n",
    "    from y in Enumerable.Range(0, map.GetLength(1))\n",
    "        select (new Point(x,y));\n",
    "\n",
    "var xMax = map.GetLength(0) - 1;\n",
    "var yMax = map.GetLength(1) - 1;\n",
    "var lowPoints = points.Where(p=>VonNeumannNeighbourhood(p, xMax,yMax).All(q=>map[q.X, q.Y] > map[p.X, p.Y]));\n",
    "Console.WriteLine(lowPoints.Sum(p=>map[p.X, p.Y]+1));\n",
    "\n",
    "IEnumerable<Point> Basin(Point p){\n",
    "    HashSet<Point> basin = new();\n",
    "    Stack<Point> fringe = new();\n",
    "    fringe.Push(p);\n",
    "    while(fringe.Any()){\n",
    "        var probe = fringe.Pop();\n",
    "        if(map[probe.X, probe.Y] == 9) continue;\n",
    "        if(basin.Contains(probe)) continue;\n",
    "        basin.Add(probe);\n",
    "        foreach(var neighbour in VonNeumannNeighbourhood(probe, xMax, yMax))\n",
    "            fringe.Push(neighbour);        \n",
    "    }\n",
    "    return basin;\n",
    "}\n",
    "\n",
    "Console.WriteLine(lowPoints.Select(Basin).Select(p=>p.Count()).OrderByDescending(p=>p).Take(3).Aggregate(1, (p, q)=>p*q));"
   ]
  },
  {
   "cell_type": "markdown",
   "metadata": {},
   "source": [
    "# --- Day 10: Syntax Scoring ---"
   ]
  },
  {
   "cell_type": "code",
   "execution_count": null,
   "metadata": {
    "dotnet_interactive": {
     "language": "csharp"
    }
   },
   "outputs": [
    {
     "name": "stdout",
     "output_type": "stream",
     "text": [
      "321237\r\n",
      "2360030859\r\n"
     ]
    }
   ],
   "source": [
    "var input = LoadAndParse<string>(@\"day10_input.txt\");\n",
    "record ParserState(bool SyntaxError, char? FirstError, char[] Missing);\n",
    "ParserState Parse(string input){\n",
    "    Stack<char> state = new ();\n",
    "    foreach(var next in input){\n",
    "        if(new[]{'{', '[','<', '('}.Contains(next))\n",
    "            state.Push(next);\n",
    "        else {\n",
    "            if(Math.Abs(state.Peek()-next)<3) //A bit of a cheat - opening and closing brackets of all four kinds are very close in the ascii table.\n",
    "                state.Pop();\n",
    "            else\n",
    "                return new ParserState(true, next, Array.Empty<char>());        \n",
    "        }\n",
    "    }\n",
    "    return new ParserState(false, null, state.ToArray());\n",
    "}\n",
    "//We can leverage that the state in the Parse method actually contains the opening brackets, not the missing closing.\n",
    "//If we don't spend time reversing the brackets for part 2, everything fits in one switch.\n",
    "int Cost(char c) => c switch { ')' => 3, ']' => 57, '}' => 1197, '>' => 25137, '(' => 1, '[' => 2, '{' => 3, '<' => 4, _ => throw new InvalidOperationException(\"What even is that?\") };\n",
    "\n",
    "var parserResults = input.Select(Parse).ToArray();\n",
    "Console.WriteLine(parserResults.Where(p=>p.SyntaxError).Sum(p=>Cost(p.FirstError.Value)));\n",
    "var scores = parserResults.Where(p=>!p.SyntaxError).Select(p=>p.Missing.Aggregate(0L, (p, q) => p * 5 + Cost(q))).OrderBy(p=>p).ToArray();\n",
    "Console.WriteLine(scores[scores.Length/2]);"
   ]
  },
  {
   "cell_type": "markdown",
   "metadata": {},
   "source": [
    "# --- Day 11: Dumbo Octopus ---"
   ]
  },
  {
   "cell_type": "code",
   "execution_count": null,
   "metadata": {
    "dotnet_interactive": {
     "language": "csharp"
    }
   },
   "outputs": [
    {
     "name": "stdout",
     "output_type": "stream",
     "text": [
      "1681\r\n",
      "276\r\n"
     ]
    }
   ],
   "source": [
    "var map = LoadMap(@\"day11_input.txt\");\n",
    "\n",
    "int StepAndCountFlashes(int[,] map) {\n",
    "    int flashCount = 0;\n",
    "    for(int x = 0; x < map.GetLength(0); x++)\n",
    "    for(int y = 0; y < map.GetLength(1); y++){\n",
    "        map[x,y]++;\n",
    "    }\n",
    "    bool iterate = false;\n",
    "    do {\n",
    "        iterate = false;\n",
    "        for(int x = 0; x < map.GetLength(0); x++)\n",
    "        for(int y = 0; y < map.GetLength(1); y++){\n",
    "            if(map[x,y] > 9){\n",
    "                foreach (var neighbour in MooreNeighbourhood(new Point(x,y), map.GetLength(0) - 1, map.GetLength(1) - 1)){\n",
    "                    if(map[neighbour.X, neighbour.Y] != 0) { //Don't increment 0s, they have already flashed.\n",
    "                        map[neighbour.X, neighbour.Y]++;\n",
    "                        iterate=true;\n",
    "                    }\n",
    "                }\n",
    "                map[x,y] = 0;\n",
    "                flashCount ++;\n",
    "            }\n",
    "        }\n",
    "    } while (iterate);\n",
    "    return flashCount;\n",
    "}\n",
    "\n",
    "int flashCount = 0;\n",
    "for(int i = 0; i < 100; i++)\n",
    "    flashCount += StepAndCountFlashes(map);   \n",
    "Console.WriteLine(flashCount);\n",
    "\n",
    "int steps = 101;\n",
    "while(StepAndCountFlashes(map) != map.Length) steps++;\n",
    "Console.WriteLine(steps);"
   ]
  },
  {
   "cell_type": "markdown",
   "metadata": {},
   "source": [
    "# --- Day 12: Passage Pathing ---"
   ]
  },
  {
   "cell_type": "code",
   "execution_count": null,
   "metadata": {
    "dotnet_interactive": {
     "language": "csharp"
    }
   },
   "outputs": [
    {
     "name": "stdout",
     "output_type": "stream",
     "text": [
      "3679\r\n",
      "107395\r\n"
     ]
    }
   ],
   "source": [
    "class Graph {\n",
    "    public record Node(string Name, List<Node> Neighbours);\n",
    "    public Dictionary<string, Node> Nodes = new();\n",
    "    \n",
    "    public void Add(string from, string to) {\n",
    "        if(!Nodes.ContainsKey(from)) Nodes[from] = new(from, new());\n",
    "        if(!Nodes.ContainsKey(to)) Nodes[to] = new(to, new());\n",
    "        Nodes[from].Neighbours.Add(Nodes[to]);\n",
    "        Nodes[to].Neighbours.Add(Nodes[from]);\n",
    "    }\n",
    "    \n",
    "    public IEnumerable<IEnumerable<string>> GetPaths(string from, string to, bool allowDuplicateVisit) {\n",
    "        var visits = Nodes.Keys.ToDictionary(p => p, p => 0);\n",
    "        if(allowDuplicateVisit) visits[from]++;\n",
    "\n",
    "        return GetPathsInternal(from, to, allowDuplicateVisit, visits);       \n",
    "    }\n",
    "\n",
    "    protected IEnumerable<IEnumerable<string>> GetPathsInternal(string from, string to, bool allowDuplicateVisit, Dictionary<string, int> visits) {\n",
    "        Dictionary<string, int> newVisits = new(visits);\n",
    "\n",
    "        if(from == to) {\n",
    "            yield return new[] { to };\n",
    "            yield break;\n",
    "        }\n",
    "\n",
    "        var node = Nodes[from];\n",
    "        if(!node.Name.All(Char.IsUpper))\n",
    "            newVisits[from]++;\n",
    "        \n",
    "        if(newVisits.Count(p=>p.Value > 1) > (allowDuplicateVisit ? 2 : 0))\n",
    "            yield break;\n",
    "        \n",
    "        foreach(var neighbour in node.Neighbours.Select(p=>p.Name)) {\n",
    "            if(newVisits[neighbour] == 0 || allowDuplicateVisit && newVisits[neighbour] == 1) {\n",
    "                foreach(var subPath in GetPathsInternal(neighbour, to, allowDuplicateVisit, newVisits))\n",
    "                    yield return new[]{from}.Concat(subPath);\n",
    "            }\n",
    "        }\n",
    "    }\n",
    "}\n",
    "\n",
    "Graph g = new();\n",
    "foreach (var line in LoadAndParse<string[]>(@\"day12_input.txt\", p=>p.Split(\"-\")))\n",
    "    g.Add(line[0], line[1]);\n",
    "\n",
    "Console.WriteLine(g.GetPaths(\"start\", \"end\", false).Count());\n",
    "Console.WriteLine(g.GetPaths(\"start\", \"end\", true).Count());"
   ]
  },
  {
   "cell_type": "markdown",
   "metadata": {},
   "source": [
    "# --- Day 13: Transparent Origami ---\n",
    "\n",
    "This one really should be written in F# - it is pretty much all down to lambda calculus and collection transformation."
   ]
  },
  {
   "cell_type": "code",
   "execution_count": null,
   "metadata": {
    "dotnet_interactive": {
     "language": "csharp"
    }
   },
   "outputs": [
    {
     "name": "stdout",
     "output_type": "stream",
     "text": [
      "After the first fold, there are 684 distinct dots (out of 846 starting dots) left.\r\n",
      "The message decodes as: \r\n",
      "  ** ***  **** ***  *     **  *  * *  *\r\n",
      "   * *  *    * *  * *    *  * * *  *  *\r\n",
      "   * *  *   *  ***  *    *    **   ****\r\n",
      "   * ***   *   *  * *    * ** * *  *  *\r\n",
      "*  * * *  *    *  * *    *  * * *  *  *\r\n",
      " **  *  * **** ***  ****  *** *  * *  *\r\n"
     ]
    }
   ],
   "source": [
    "record Fold(char Axis, int Offset){\n",
    "    public Point Transform(Point p) => Axis switch {\n",
    "        'x' => p.X > Offset ? p with { X = Offset - (p.X - Offset) } : p,\n",
    "        'y' => p.Y > Offset ? p with { Y = Offset - (p.Y - Offset) } : p,\n",
    "        _ => throw new ArgumentException(\"Cannot comprehend axis \" + Axis)\n",
    "    };\n",
    "};\n",
    "List<Point> dots = new();\n",
    "List<Fold> folds = new();\n",
    "\n",
    "foreach(var line in LoadAndParse<string>(@\"day13_input.txt\")){\n",
    "    if(line.Contains(\",\")){\n",
    "        var coord = line.Split(\",\", StringSplitOptions.RemoveEmptyEntries).Select(Int32.Parse).ToArray();\n",
    "        dots.Add(new(coord[0],coord[1]));\n",
    "    }\n",
    "    else if (line.Contains(\"fold along\")){\n",
    "        folds.Add(new(line[11], Int32.Parse(line.Substring(13))));\n",
    "    }    \n",
    "}\n",
    "\n",
    "Console.WriteLine($\"After the first fold, there are {dots.Select(folds[0].Transform).Distinct().Count()} distinct dots (out of {dots.Count()} starting dots) left.\");\n",
    "var fullTransform = folds.Select(p=>p.Transform).Aggregate((a, b) => p => (b(a(p))));\n",
    "var message = dots.Select(fullTransform).ToHashSet();\n",
    "Point bounds = new(message.Max(p=>p.X), message.Max(p=>p.Y));\n",
    "\n",
    "Console.WriteLine(\"The message decodes as: \");\n",
    "for(var y = 0; y <= bounds.Y; y++) {\n",
    "    string line = \"\";\n",
    "    for(int x = 0; x <= bounds.X; x++) {\n",
    "        if(message.Contains(new(x,y))) line += '*';\n",
    "        else line += ' ';\n",
    "    }\n",
    "    Console.WriteLine(line);\n",
    "}"
   ]
  },
  {
   "cell_type": "markdown",
   "metadata": {
    "dotnet_interactive": {
     "language": "csharp"
    }
   },
   "source": [
    "# --- Day 14: Extended Polymerization ---"
   ]
  },
  {
   "cell_type": "code",
   "execution_count": null,
   "metadata": {
    "dotnet_interactive": {
     "language": "csharp"
    }
   },
   "outputs": [
    {
     "name": "stdout",
     "output_type": "stream",
     "text": [
      "3284\r\n",
      "4302675529689\r\n"
     ]
    }
   ],
   "source": [
    "var input = LoadAndParse<string>(@\"day14_input.txt\");\n",
    "var template = input.First();\n",
    "var rules = input.Skip(1).ToDictionary(p=>p.Substring(0, 2), p=>p[6]);\n",
    "\n",
    "LinkedList<char> polymer = new(template);\n",
    "\n",
    "void Step() {\n",
    "    var iterator = polymer.First.Next;\n",
    "    while(iterator != null) {\n",
    "        if(rules.TryGetValue($\"{iterator.Previous.Value}{iterator.Value}\", out var insertion))\n",
    "            polymer.AddAfter(iterator.Previous, insertion);\n",
    "        iterator = iterator.Next;\n",
    "    }\n",
    "}\n",
    "\n",
    "//naïve implementation for part 1 - just scrapes by but real short and neat.\n",
    "for(int step = 0; step < 10; step++) Step();\n",
    "var elements = polymer.GroupBy(p=>p).ToDictionary(p=>p.Key, p=>p.LongCount());\n",
    "Console.WriteLine(elements.Max(p=>p.Value) - elements.Min(p=>p.Value));\n",
    "\n",
    "//for part 2 we need to be a bit more clever - could most likely be a lot more short and neat still..\n",
    "var digrams = Enumerable.Range(0, template.Length-1)\n",
    "    .Select(p=>template.Substring(p, 2))\n",
    "    .GroupBy(p=>p)\n",
    "    .ToDictionary(p=>p.Key, p=>p.LongCount());\n",
    "foreach(var rule in rules){\n",
    "    if(!digrams.ContainsKey(rule.Key))\n",
    "        digrams[rule.Key] = 0;\n",
    "}\n",
    "\n",
    "for(int i = 0; i < 40; i++){\n",
    "    var temp = new Dictionary<string, long>(digrams);\n",
    "    foreach(var rule in rules){\n",
    "        if(digrams.ContainsKey(rule.Key)){\n",
    "            temp[rule.Key] -= digrams[rule.Key];\n",
    "            temp[$\"{rule.Key[0]}{rule.Value}\"] += digrams[rule.Key];\n",
    "            temp[$\"{rule.Value}{rule.Key[1]}\"] += digrams[rule.Key];\n",
    "        }\n",
    "    }\n",
    "    digrams = temp;\n",
    "}\n",
    "\n",
    "elements = new Dictionary<char, long>();\n",
    "foreach (var digram in digrams){\n",
    "    foreach (var element in digram.Key){\n",
    "        if(!elements.ContainsKey(element)) elements[element] = 0;\n",
    "        elements[element]+= digram.Value;\n",
    "    }\n",
    "}\n",
    "\n",
    "//Every other element is double counted except the first and last since they don't have a left or right neighbour.\n",
    "elements[template[0]]++;\n",
    "elements[template.Last()]++;\n",
    "\n",
    "Console.WriteLine((elements.Max(p=>p.Value) - elements.Min(p=>p.Value))/2);\n"
   ]
  }
 ],
 "metadata": {
  "kernelspec": {
   "display_name": ".NET (C#)",
   "language": "C#",
   "name": ".net-csharp"
  },
  "language_info": {
   "name": "C#"
  }
 },
 "nbformat": 4,
 "nbformat_minor": 2
}
