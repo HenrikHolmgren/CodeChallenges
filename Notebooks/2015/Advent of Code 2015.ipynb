{
 "cells": [
  {
   "cell_type": "markdown",
   "metadata": {},
   "source": [
    "# Common functions\n",
    "\n",
    "So far, only contains what is expected to be a heavily reused load-and-parse method."
   ]
  },
  {
   "cell_type": "code",
   "execution_count": null,
   "metadata": {
    "dotnet_interactive": {
     "language": "csharp"
    }
   },
   "outputs": [],
   "source": [
    "public T[] LoadAndParse<T>(string path, Func<string, T> parse = null) {  \n",
    "    parse = parse ?? (p => (T) Convert.ChangeType(p, typeof(T)));\n",
    "    var rawInput = System.IO.File.ReadAllLines(path);\n",
    "    return rawInput\n",
    "    .Where(p=>!string.IsNullOrWhiteSpace(p))\n",
    "    .Select(parse)\n",
    "    .ToArray();\n",
    "}"
   ]
  },
  {
   "cell_type": "markdown",
   "metadata": {},
   "source": [
    "# --- Day 1: Not Quite Lisp ---\n"
   ]
  },
  {
   "cell_type": "code",
   "execution_count": null,
   "metadata": {
    "dotnet_interactive": {
     "language": "csharp"
    }
   },
   "outputs": [
    {
     "name": "stdout",
     "output_type": "stream",
     "text": [
      "Last floor: 232\r\n",
      "Santa first enters the basement on level 1783\r\n"
     ]
    }
   ],
   "source": [
    "{\n",
    "    var input = System.IO.File.ReadAllText(@\"day1_input.txt\");\n",
    "    int? firstNegative = null;\n",
    "    int currentFloor = 0;\n",
    "    for(int i = 0; i < input.Length; i++)   {\n",
    "        if(input[i] == '(')\n",
    "            currentFloor++;\n",
    "        else\n",
    "            currentFloor--;\n",
    "        if(currentFloor < 0)\n",
    "            firstNegative ??= (i+1);\n",
    "    }\n",
    "    Console.WriteLine($\"Last floor: {currentFloor}\");\n",
    "    Console.WriteLine($\"Santa first enters the basement on level {firstNegative}\");\n",
    "}"
   ]
  },
  {
   "cell_type": "markdown",
   "metadata": {},
   "source": [
    "# --- Day 2: I Was Told There Would Be No Math ---"
   ]
  },
  {
   "cell_type": "code",
   "execution_count": null,
   "metadata": {
    "dotnet_interactive": {
     "language": "csharp"
    }
   },
   "outputs": [
    {
     "name": "stdout",
     "output_type": "stream",
     "text": [
      "1606483\r\n",
      "3842356\r\n"
     ]
    }
   ],
   "source": [
    "record Prism (int L, int W, int H) {\n",
    "    //Both methods assume the coordinates are ordered l - w - h smallest to largest dimension.\n",
    "    public int Area => 3*L*W + 2*W*H + 2*H*L;\n",
    "    public int RibbonLength => 2*L + 2*W + L*W*H;\n",
    "};\n",
    "\n",
    "var input = LoadAndParse<Prism>(@\"day2_input.txt\", p => {\n",
    "    var input = p.Split(\"x\")\n",
    "    .Select(p=>Int32.Parse(p))\n",
    "    .OrderBy(p=>p)\n",
    "    .ToArray();\n",
    "    return new Prism(input[0], input[1], input[2]);\n",
    "});\n",
    "    \n",
    "Console.WriteLine(input.Sum(p=>p.Area));\n",
    "Console.WriteLine(input.Sum(p=>p.RibbonLength));"
   ]
  },
  {
   "cell_type": "markdown",
   "metadata": {},
   "source": [
    "# --- Day 3: Perfectly Spherical Houses in a Vacuum ---"
   ]
  },
  {
   "cell_type": "code",
   "execution_count": null,
   "metadata": {
    "dotnet_interactive": {
     "language": "csharp"
    }
   },
   "outputs": [
    {
     "name": "stdout",
     "output_type": "stream",
     "text": [
      "2592\r\n",
      "2360\r\n"
     ]
    }
   ],
   "source": [
    "var input = System.IO.File.ReadAllText(@\"day3_input.txt\");\n",
    "\n",
    "int Visits(IEnumerable<IEnumerable<char>> paths) {\n",
    "    System.Collections.Generic.HashSet<(int x, int y)> Visited = new();\n",
    "    Visited.Add((0,0));\n",
    "    \n",
    "    foreach (var path in paths){\n",
    "        (int x, int y) currentLocation = (0,0);\n",
    "        foreach(char direction in path){\n",
    "            switch (direction) {\n",
    "                case '>': currentLocation = (currentLocation.x + 1, currentLocation.y); break;\n",
    "                case '<': currentLocation = (currentLocation.x - 1, currentLocation.y); break;\n",
    "                case '^': currentLocation = (currentLocation.x, currentLocation.y + 1); break;\n",
    "                case 'v': currentLocation = (currentLocation.x, currentLocation.y - 1); break;\n",
    "            }\n",
    "            Visited.Add(currentLocation);\n",
    "        }\n",
    "    }\n",
    "    return Visited.Count();   \n",
    "}\n",
    "\n",
    "Console.WriteLine(Visits(new[]{input}));\n",
    "\n",
    "var inputTrails = input.Select((p, i) => (instruction: p, follower: i%2)).ToLookup(p=>p.follower, p=>p.instruction);\n",
    "Console.WriteLine(Visits(inputTrails));"
   ]
  },
  {
   "cell_type": "markdown",
   "metadata": {},
   "source": [
    "# --- Day 4: The Ideal Stocking Stuffer ---"
   ]
  },
  {
   "cell_type": "code",
   "execution_count": null,
   "metadata": {
    "dotnet_interactive": {
     "language": "csharp"
    }
   },
   "outputs": [
    {
     "name": "stdout",
     "output_type": "stream",
     "text": [
      "5 zero prefix collision found at probe 282749. yzbqklnj282749 resolves to MD5 00-00-02-C6-55-DF-77-38-24-6E-88-F6-C1-C4-3E-B7\r\n",
      "6 zero prefix collision found at probe 9962624. yzbqklnj9962624 resolves to MD5 00-00-00-4B-34-7B-F4-B3-98-B3-F6-2A-CE-7C-D3-01\r\n"
     ]
    }
   ],
   "source": [
    "var input = System.IO.File.ReadAllText(@\"day4_input.txt\");\n",
    "public int FindPrefixCollision(string target, int prefixZeroCount){\n",
    "    using (var md5 = System.Security.Cryptography.MD5.Create()){\n",
    "        int probe = 0;\n",
    "        byte[] hash;\n",
    "        \n",
    "        while(true){\n",
    "            //Note: Significant allocation overhead could probably be eliminated by in-place manipulating the byte-array.\n",
    "            var bytes = System.Text.Encoding.ASCII.GetBytes($\"{input}{probe}\");\n",
    "            hash = md5.ComputeHash(bytes);\n",
    "            \n",
    "            byte test = hash.Take(prefixZeroCount / 2).Aggregate((p, q) => (byte) (p | q));\n",
    "            if(prefixZeroCount % 2 == 1)\n",
    "                test |= (byte) (hash[prefixZeroCount/2] >> 4);\n",
    "\n",
    "            if(test == 0){\n",
    "                Console.WriteLine($\"{prefixZeroCount} zero prefix collision found at probe {probe}. {input}{probe} resolves to MD5 {BitConverter.ToString(hash)}\");\n",
    "                return probe;\n",
    "            }\n",
    "            \n",
    "            probe++;\n",
    "        }\n",
    "    }\n",
    "    \n",
    "}\n",
    "FindPrefixCollision(input, 5);\n",
    "FindPrefixCollision(input, 6);"
   ]
  }
 ],
 "metadata": {
  "kernelspec": {
   "display_name": ".NET (C#)",
   "language": "C#",
   "name": ".net-csharp"
  },
  "language_info": {
   "name": "C#"
  }
 },
 "nbformat": 4,
 "nbformat_minor": 2
}
