{
 "cells": [
  {
   "cell_type": "markdown",
   "metadata": {},
   "source": [
    "# Common functions\n",
    "\n",
    "So far, only contains what is expected to be a heavily reused load-and-parse method."
   ]
  },
  {
   "cell_type": "code",
   "execution_count": null,
   "metadata": {
    "dotnet_interactive": {
     "language": "csharp"
    }
   },
   "outputs": [],
   "source": [
    "public T[] LoadAndParse<T>(string path, Func<string, T> parse = null) {  \n",
    "    parse = parse ?? (p => (T) Convert.ChangeType(p, typeof(T)));\n",
    "    var rawInput = System.IO.File.ReadAllLines(path);\n",
    "    return rawInput\n",
    "    .Where(p=>!string.IsNullOrWhiteSpace(p))\n",
    "    .Select(parse)\n",
    "    .ToArray();\n",
    "}"
   ]
  },
  {
   "cell_type": "markdown",
   "metadata": {},
   "source": [
    "# --- Day 1: Not Quite Lisp ---\n"
   ]
  },
  {
   "cell_type": "code",
   "execution_count": null,
   "metadata": {
    "dotnet_interactive": {
     "language": "csharp"
    }
   },
   "outputs": [
    {
     "name": "stdout",
     "output_type": "stream",
     "text": [
      "Last floor: 232\r\n",
      "Santa first enters the basement on level 1783\r\n"
     ]
    }
   ],
   "source": [
    "{\n",
    "    var input = System.IO.File.ReadAllText(@\"day1_input.txt\");\n",
    "    int? firstNegative = null;\n",
    "    int currentFloor = 0;\n",
    "    for(int i = 0; i < input.Length; i++)   {\n",
    "        if(input[i] == '(')\n",
    "            currentFloor++;\n",
    "        else\n",
    "            currentFloor--;\n",
    "        if(currentFloor < 0)\n",
    "            firstNegative ??= (i+1);\n",
    "    }\n",
    "    Console.WriteLine($\"Last floor: {currentFloor}\");\n",
    "    Console.WriteLine($\"Santa first enters the basement on level {firstNegative}\");\n",
    "}"
   ]
  },
  {
   "cell_type": "markdown",
   "metadata": {},
   "source": [
    "# --- Day 2: I Was Told There Would Be No Math ---"
   ]
  },
  {
   "cell_type": "code",
   "execution_count": null,
   "metadata": {
    "dotnet_interactive": {
     "language": "csharp"
    }
   },
   "outputs": [
    {
     "name": "stdout",
     "output_type": "stream",
     "text": [
      "1606483\r\n",
      "3842356\r\n"
     ]
    }
   ],
   "source": [
    "record Prism (int L, int W, int H) {\n",
    "    //Both methods assume the coordinates are ordered l - w - h smallest to largest dimension.\n",
    "    public int Area => 3*L*W + 2*W*H + 2*H*L;\n",
    "    public int RibbonLength => 2*L + 2*W + L*W*H;\n",
    "};\n",
    "\n",
    "var input = LoadAndParse<Prism>(@\"day2_input.txt\", p => {\n",
    "    var input = p.Split(\"x\")\n",
    "    .Select(p=>Int32.Parse(p))\n",
    "    .OrderBy(p=>p)\n",
    "    .ToArray();\n",
    "    return new Prism(input[0], input[1], input[2]);\n",
    "});\n",
    "    \n",
    "Console.WriteLine(input.Sum(p=>p.Area));\n",
    "Console.WriteLine(input.Sum(p=>p.RibbonLength));"
   ]
  },
  {
   "cell_type": "markdown",
   "metadata": {},
   "source": [
    "# --- Day 3: Perfectly Spherical Houses in a Vacuum ---"
   ]
  },
  {
   "cell_type": "code",
   "execution_count": null,
   "metadata": {
    "dotnet_interactive": {
     "language": "csharp"
    }
   },
   "outputs": [
    {
     "name": "stdout",
     "output_type": "stream",
     "text": [
      "2592\r\n",
      "2360\r\n"
     ]
    }
   ],
   "source": [
    "var input = System.IO.File.ReadAllText(@\"day3_input.txt\");\n",
    "\n",
    "int Visits(IEnumerable<IEnumerable<char>> paths) {\n",
    "    System.Collections.Generic.HashSet<(int x, int y)> Visited = new();\n",
    "    Visited.Add((0,0));\n",
    "    \n",
    "    foreach (var path in paths){\n",
    "        (int x, int y) currentLocation = (0,0);\n",
    "        foreach(char direction in path){\n",
    "            switch (direction) {\n",
    "                case '>': currentLocation = (currentLocation.x + 1, currentLocation.y); break;\n",
    "                case '<': currentLocation = (currentLocation.x - 1, currentLocation.y); break;\n",
    "                case '^': currentLocation = (currentLocation.x, currentLocation.y + 1); break;\n",
    "                case 'v': currentLocation = (currentLocation.x, currentLocation.y - 1); break;\n",
    "            }\n",
    "            Visited.Add(currentLocation);\n",
    "        }\n",
    "    }\n",
    "    return Visited.Count();   \n",
    "}\n",
    "\n",
    "Console.WriteLine(Visits(new[]{input}));\n",
    "\n",
    "var inputTrails = input.Select((p, i) => (instruction: p, follower: i%2)).ToLookup(p=>p.follower, p=>p.instruction);\n",
    "Console.WriteLine(Visits(inputTrails));"
   ]
  },
  {
   "cell_type": "markdown",
   "metadata": {},
   "source": [
    "# --- Day 4: The Ideal Stocking Stuffer ---"
   ]
  },
  {
   "cell_type": "code",
   "execution_count": null,
   "metadata": {
    "dotnet_interactive": {
     "language": "csharp"
    }
   },
   "outputs": [
    {
     "name": "stdout",
     "output_type": "stream",
     "text": [
      "5 zero prefix collision found at probe 282749. yzbqklnj282749 resolves to MD5 00-00-02-C6-55-DF-77-38-24-6E-88-F6-C1-C4-3E-B7\r\n",
      "6 zero prefix collision found at probe 9962624. yzbqklnj9962624 resolves to MD5 00-00-00-4B-34-7B-F4-B3-98-B3-F6-2A-CE-7C-D3-01\r\n"
     ]
    }
   ],
   "source": [
    "var input = System.IO.File.ReadAllText(@\"day4_input.txt\");\n",
    "public int FindPrefixCollision(string target, int prefixZeroCount){\n",
    "    using (var md5 = System.Security.Cryptography.MD5.Create()){\n",
    "        int probe = 0;\n",
    "        byte[] hash;\n",
    "        \n",
    "        while(true){\n",
    "            //Note: Significant allocation overhead could probably be eliminated by in-place manipulating the byte-array.\n",
    "            var bytes = System.Text.Encoding.ASCII.GetBytes($\"{input}{probe}\");\n",
    "            hash = md5.ComputeHash(bytes);\n",
    "            \n",
    "            byte test = hash.Take(prefixZeroCount / 2).Aggregate((p, q) => (byte) (p | q));\n",
    "            if(prefixZeroCount % 2 == 1)\n",
    "                test |= (byte) (hash[prefixZeroCount/2] >> 4);\n",
    "\n",
    "            if(test == 0){\n",
    "                Console.WriteLine($\"{prefixZeroCount} zero prefix collision found at probe {probe}. {input}{probe} resolves to MD5 {BitConverter.ToString(hash)}\");\n",
    "                return probe;\n",
    "            }\n",
    "            \n",
    "            probe++;\n",
    "        }\n",
    "    }\n",
    "    \n",
    "}\n",
    "FindPrefixCollision(input, 5);\n",
    "FindPrefixCollision(input, 6);"
   ]
  },
  {
   "cell_type": "markdown",
   "metadata": {},
   "source": [
    "# --- Day 5: Doesn't He Have Intern-Elves For This? ---"
   ]
  },
  {
   "cell_type": "code",
   "execution_count": null,
   "metadata": {},
   "outputs": [
    {
     "name": "stdout",
     "output_type": "stream",
     "text": [
      "255\r\n",
      "55\r\n"
     ]
    }
   ],
   "source": [
    "var input = LoadAndParse<string>(@\"day5_input.txt\");\n",
    "\n",
    "bool IsNice1(string candidate) {\n",
    "    bool HasDublet() => Enumerable.Range(0, candidate.Length-1).Any(i => candidate[i] == candidate[i+1]);\n",
    "    bool HasEnoughVowels() => candidate.Count(p => new []{'a', 'e', 'i', 'o', 'u'}.Contains(p)) >= 3;\n",
    "    bool ContainsStopwords() => (new[]{\"ab\", \"cd\", \"pq\", \"xy\"}).Any(p=>candidate.Contains(p));\n",
    "    \n",
    "    return HasDublet() && HasEnoughVowels() && !ContainsStopwords();\n",
    "}\n",
    "\n",
    "Console.WriteLine(input.Count(IsNice1));\n",
    "\n",
    "bool IsNice2(string candidate) {\n",
    "    bool HasRepeatingLetterPair() => Enumerable.Range(0, candidate.Length-3).Any(i => candidate.Substring(i+2).Contains(candidate.Substring(i, 2))) ;\n",
    "    bool ContainsDubletWithChaperone() => Enumerable.Range(0, candidate.Length-2).Any(i => candidate[i] == candidate[i+2]);\n",
    "        \n",
    "    return HasRepeatingLetterPair() && ContainsDubletWithChaperone();\n",
    "}\n",
    "\n",
    "Console.WriteLine(input.Count(IsNice2));\n"
   ]
  },
  {
   "cell_type": "markdown",
   "metadata": {},
   "source": [
    "# --- Day 6: Probably a Fire Hazard ---"
   ]
  },
  {
   "cell_type": "code",
   "execution_count": null,
   "metadata": {
    "dotnet_interactive": {
     "language": "csharp"
    }
   },
   "outputs": [
    {
     "name": "stdout",
     "output_type": "stream",
     "text": [
      "543903\r\n",
      "14687245\r\n"
     ]
    }
   ],
   "source": [
    "var inputPattern = new System.Text.RegularExpressions.Regex(@\"(?'command'turn on|turn off|toggle) (?'x1'\\d+),(?'y1'\\d+) through (?'x2'\\d+),(?'y2'\\d+)\");\n",
    "record Instruction (string Command, int X1, int Y1, int X2, int Y2) {\n",
    "    public void Apply(bool[,] grid) {\n",
    "        for (int x = X1; x <= X2; x++)\n",
    "        for(int y = Y1; y <= Y2; y++) \n",
    "        switch(Command){\n",
    "            case \"turn on\": grid[x,y] = true; break;\n",
    "            case \"turn off\": grid[x,y] = false; break;\n",
    "            case \"toggle\": grid[x,y] = !grid[x,y]; break;            \n",
    "        }\n",
    "    }\n",
    "    \n",
    "    public void Apply(int[,] grid) {\n",
    "        for (int x = X1; x <= X2; x++)\n",
    "        for(int y = Y1; y <= Y2; y++) \n",
    "        switch(Command){\n",
    "            case \"turn on\": grid[x,y]++ ; break;\n",
    "            case \"turn off\": grid[x,y] = Math.Max(0, grid[x,y]-1); break;\n",
    "            case \"toggle\": grid[x,y] += 2; break;            \n",
    "        }\n",
    "    }\n",
    "    \n",
    "};\n",
    "var input = LoadAndParse<Instruction>(@\"day6_input.txt\", p=>{\n",
    "    var match = inputPattern.Match(p);\n",
    "    return new Instruction(match.Groups[\"command\"].Value,\n",
    "        Int32.Parse(match.Groups[\"x1\"].Value), Int32.Parse(match.Groups[\"y1\"].Value),\n",
    "        Int32.Parse(match.Groups[\"x2\"].Value), Int32.Parse(match.Groups[\"y2\"].Value));\n",
    "});\n",
    "\n",
    "bool[,] grid1 = new bool[1000, 1000];\n",
    "int[,] grid2 = new int[1000, 1000];\n",
    "foreach (var instruction in input){\n",
    "    instruction.Apply(grid1);\n",
    "    instruction.Apply(grid2);\n",
    "}\n",
    "\n",
    "Console.WriteLine(grid1.Cast<bool>().Count(p=>p));\n",
    "Console.WriteLine(grid2.Cast<int>().Sum());\n",
    "\n",
    "//Just for fun, lets try rendering the display - turns out it's basically a foggy cloud with no real substance :/\n",
    "var m = grid2.Cast<int>().Max();\n",
    "var b = new System.Drawing.Bitmap(1000, 1000);\n",
    "for(int x = 0; x < 1000; x++) \n",
    "for(int y = 0; y < 1000; y++) {\n",
    "    var lumen = (byte)(250 * grid2[x,y] / m); \n",
    "    b.SetPixel(x, y,  System.Drawing.Color.FromArgb(lumen, lumen, lumen));\n",
    "}\n",
    "b.Save(\"BW.bmp\");"
   ]
  }
 ],
 "metadata": {
  "kernelspec": {
   "display_name": ".NET (C#)",
   "language": "C#",
   "name": ".net-csharp"
  },
  "language_info": {
   "name": "C#"
  }
 },
 "nbformat": 4,
 "nbformat_minor": 2
}
